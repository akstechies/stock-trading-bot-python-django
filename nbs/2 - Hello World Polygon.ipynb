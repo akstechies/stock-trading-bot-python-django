{
 "cells": [
  {
   "cell_type": "code",
   "execution_count": 1,
   "id": "691756fe-a411-446b-a077-40ea788f2efc",
   "metadata": {},
   "outputs": [],
   "source": [
    "import decouple"
   ]
  },
  {
   "cell_type": "code",
   "execution_count": 2,
   "id": "aaa0b0fb-3e77-45de-b990-f35cc0c7463b",
   "metadata": {},
   "outputs": [],
   "source": [
    "config = decouple.AutoConfig(' ')"
   ]
  },
  {
   "cell_type": "code",
   "execution_count": 3,
   "id": "6b7fb5a1-55ca-4cec-9b48-a7c3c70ec949",
   "metadata": {},
   "outputs": [],
   "source": [
    "assert config(\"POLYGON_API_KEY\", default=None, cast=str) is not None"
   ]
  },
  {
   "cell_type": "code",
   "execution_count": 4,
   "id": "4a42f79b-dc69-4957-999f-c8a58a30a630",
   "metadata": {},
   "outputs": [
    {
     "data": {
      "text/plain": [
       "'FX9oDe73KyNszcNFCjhAqeEeEjq73Qzp'"
      ]
     },
     "execution_count": 4,
     "metadata": {},
     "output_type": "execute_result"
    }
   ],
   "source": [
    "POLYGON_API_KEY = config(\"POLYGON_API_KEY\", default=None, cast=str)\n",
    "POLYGON_API_KEY"
   ]
  },
  {
   "cell_type": "code",
   "execution_count": 5,
   "id": "4bc26794-43a1-4e00-bb79-4b93d93a2613",
   "metadata": {},
   "outputs": [],
   "source": [
    "import requests"
   ]
  },
  {
   "cell_type": "code",
   "execution_count": 6,
   "id": "642c9c01-6542-4981-8079-4af4e9958dd2",
   "metadata": {},
   "outputs": [],
   "source": [
    "ticker = \"AAPL\"\n",
    "multiplier = \"1\"\n",
    "timespan = \"day\"\n",
    "from_date = \"2025-01-10\"\n",
    "to_date = \"2025-01-10\"\n",
    "path = f\"/v2/aggs/ticker/{ticker}/range/{multiplier}/{timespan}/{from_date}/{to_date}\"\n",
    "url = f\"https://api.polygon.io{path}?apiKey={POLYGON_API_KEY}\""
   ]
  },
  {
   "cell_type": "code",
   "execution_count": 7,
   "id": "3f83e4a8-abf7-48ff-b288-3dbc2aaa3674",
   "metadata": {},
   "outputs": [
    {
     "data": {
      "text/plain": [
       "'https://api.polygon.io/v2/aggs/ticker/AAPL/range/1/day/2025-01-10/2025-01-10?apiKey=FX9oDe73KyNszcNFCjhAqeEeEjq73Qzp'"
      ]
     },
     "execution_count": 7,
     "metadata": {},
     "output_type": "execute_result"
    }
   ],
   "source": [
    "url"
   ]
  },
  {
   "cell_type": "code",
   "execution_count": 8,
   "id": "576159ce-0994-439f-b12e-b7dfc75f7cd2",
   "metadata": {},
   "outputs": [],
   "source": [
    "response = requests.get(url)"
   ]
  },
  {
   "cell_type": "code",
   "execution_count": 9,
   "id": "0b416843-fe34-4a7c-a555-2f8b01df7411",
   "metadata": {},
   "outputs": [],
   "source": [
    "data = response.json()"
   ]
  },
  {
   "cell_type": "code",
   "execution_count": 10,
   "id": "920f0d37-a0c1-4b0e-872b-f0fd2f58e415",
   "metadata": {},
   "outputs": [
    {
     "data": {
      "text/plain": [
       "{'ticker': 'AAPL',\n",
       " 'queryCount': 1,\n",
       " 'resultsCount': 1,\n",
       " 'adjusted': True,\n",
       " 'results': [{'v': 56399864.0,\n",
       "   'vw': 236.5833,\n",
       "   'o': 240.01,\n",
       "   'c': 236.85,\n",
       "   'h': 240.16,\n",
       "   'l': 233,\n",
       "   't': 1736485200000,\n",
       "   'n': 685843}],\n",
       " 'status': 'OK',\n",
       " 'request_id': 'b5f52e83ff5e425d379e19fffd569954',\n",
       " 'count': 1}"
      ]
     },
     "execution_count": 10,
     "metadata": {},
     "output_type": "execute_result"
    }
   ],
   "source": [
    "data"
   ]
  },
  {
   "cell_type": "code",
   "execution_count": null,
   "id": "d7f9399a-375b-47ee-b3f2-b3a08b5779e7",
   "metadata": {},
   "outputs": [],
   "source": []
  }
 ],
 "metadata": {
  "kernelspec": {
   "display_name": "Python 3 (ipykernel)",
   "language": "python",
   "name": "python3"
  },
  "language_info": {
   "codemirror_mode": {
    "name": "ipython",
    "version": 3
   },
   "file_extension": ".py",
   "mimetype": "text/x-python",
   "name": "python",
   "nbconvert_exporter": "python",
   "pygments_lexer": "ipython3",
   "version": "3.12.8"
  }
 },
 "nbformat": 4,
 "nbformat_minor": 5
}
