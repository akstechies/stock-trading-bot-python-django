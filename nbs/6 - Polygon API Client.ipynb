{
 "cells": [
  {
   "cell_type": "code",
   "execution_count": 1,
   "id": "691756fe-a411-446b-a077-40ea788f2efc",
   "metadata": {},
   "outputs": [],
   "source": [
    "import decouple"
   ]
  },
  {
   "cell_type": "code",
   "execution_count": 2,
   "id": "aaa0b0fb-3e77-45de-b990-f35cc0c7463b",
   "metadata": {},
   "outputs": [],
   "source": [
    "config = decouple.AutoConfig(' ')"
   ]
  },
  {
   "cell_type": "code",
   "execution_count": 3,
   "id": "6b7fb5a1-55ca-4cec-9b48-a7c3c70ec949",
   "metadata": {},
   "outputs": [],
   "source": [
    "assert config(\"POLYGON_API_KEY\", default=None, cast=str) is not None"
   ]
  },
  {
   "cell_type": "code",
   "execution_count": 4,
   "id": "4a42f79b-dc69-4957-999f-c8a58a30a630",
   "metadata": {},
   "outputs": [
    {
     "data": {
      "text/plain": [
       "'FX9oDe73KyNszcNFCjhAqeEeEjq73Qzp'"
      ]
     },
     "execution_count": 4,
     "metadata": {},
     "output_type": "execute_result"
    }
   ],
   "source": [
    "POLYGON_API_KEY = config(\"POLYGON_API_KEY\", default=None, cast=str)\n",
    "POLYGON_API_KEY"
   ]
  },
  {
   "cell_type": "code",
   "execution_count": 5,
   "id": "4bc26794-43a1-4e00-bb79-4b93d93a2613",
   "metadata": {},
   "outputs": [],
   "source": [
    "import requests"
   ]
  },
  {
   "cell_type": "code",
   "execution_count": 6,
   "id": "642c9c01-6542-4981-8079-4af4e9958dd2",
   "metadata": {},
   "outputs": [],
   "source": [
    "ticker = \"AAPL\"\n",
    "multiplier = \"1\"\n",
    "timespan = \"day\"\n",
    "from_date = \"2025-01-10\"\n",
    "to_date = \"2025-01-10\"\n",
    "path = f\"/v2/aggs/ticker/{ticker}/range/{multiplier}/{timespan}/{from_date}/{to_date}\"\n",
    "url = f\"https://api.polygon.io{path}?apiKey={POLYGON_API_KEY}\""
   ]
  },
  {
   "cell_type": "code",
   "execution_count": 80,
   "id": "3c226697-950c-42cf-a71b-c52515e72b65",
   "metadata": {},
   "outputs": [],
   "source": [
    "import pytz\n",
    "\n",
    "from dataclasses import dataclass\n",
    "from datetime import datetime\n",
    "from typing import Literal\n",
    "from urllib.parse import urlencode\n",
    "\n",
    "def transform_polygon_result(result):\n",
    "    unix_timestamp = result.get(\"t\") / 1000.0\n",
    "    utc_timestamp = datetime.fromtimestamp(unix_timestamp, pytz.timezone(\"UTC\"))   # t ~ The Unix Msec timestamp\n",
    "    # print(utc_timestamp)\n",
    "    return {\n",
    "        \"volume\": result[\"v\"],\n",
    "        \"volume_weighted_average_price\": result[\"vw\"],\n",
    "        \"open\": result[\"o\"],\n",
    "        \"close\": result[\"c\"],\n",
    "        \"high\": result[\"h\"],\n",
    "        \"low\": result[\"l\"],\n",
    "        \"timestamp\": utc_timestamp,  \n",
    "        \"no_of_transactions\": result[\"n\"]\n",
    "    }\n",
    "    \n",
    "@dataclass\n",
    "class PolygonAPIClient:\n",
    "    ticker: str = \"AAPL\"\n",
    "    multiplier: int = 1\n",
    "    timespan: str = \"day\"\n",
    "    from_date: str = \"2025-01-10\"\n",
    "    to_date: str = \"2025-01-10\"\n",
    "    api_key: str = \"\"\n",
    "    adjusted: bool = True\n",
    "    sort: Literal[\"asc\", \"desc\"] = \"asc\"\n",
    "\n",
    "    def get_api_keys(self):\n",
    "        return self.api_key or POLYGON_API_KEY\n",
    "        \n",
    "    def get_headers(self):\n",
    "        return {\n",
    "            \"Authorization\": f\"Bearer {self.get_api_keys()}\"\n",
    "        }\n",
    "\n",
    "    def get_params(self):\n",
    "        return {\n",
    "            \"adjusted\": self.adjusted,\n",
    "            \"sort\": self.sort\n",
    "        }\n",
    "\n",
    "    def generate_url(self, pass_auth=False):\n",
    "        path = f\"/v2/aggs/ticker/{self.ticker}/range/{self.multiplier}/{self.timespan}/{self.from_date}/{self.to_date}\"\n",
    "        url = f\"https://api.polygon.io{path}\"\n",
    "        params = self.get_params()\n",
    "        encoded_params = urlencode(params)\n",
    "        url = f\"{url}?{encoded_params}\"\n",
    "        if pass_auth:\n",
    "            url += f\"&apikey={self.get_api_keys()}\"\n",
    "        return url\n",
    "\n",
    "    def fetch_data(self):\n",
    "        headers = self.get_headers()\n",
    "        url = self.generate_url()\n",
    "        response = requests.get(url, headers=headers)\n",
    "        response.raise_for_status()  # not for 200/201\n",
    "        return response.json()\n",
    "\n",
    "    def get_stock_data(self):\n",
    "        data = self.fetch_data()\n",
    "        results = data['results']\n",
    "        return [transform_polygon_result(result) for result in results]\n",
    "        # dataset = []\n",
    "        # for result in results:\n",
    "        #     dataset.append(\n",
    "        #         transform_polygon_result(result)\n",
    "        #     )\n",
    "        # return dataset"
   ]
  },
  {
   "cell_type": "code",
   "execution_count": 81,
   "id": "3f83e4a8-abf7-48ff-b288-3dbc2aaa3674",
   "metadata": {},
   "outputs": [
    {
     "data": {
      "text/plain": [
       "'https://api.polygon.io/v2/aggs/ticker/GOOG/range/1/hour/2025-01-10/2025-01-10?adjusted=True&sort=asc&apiKey=FX9oDe73KyNszcNFCjhAqeEeEjq73Qzp'"
      ]
     },
     "execution_count": 81,
     "metadata": {},
     "output_type": "execute_result"
    }
   ],
   "source": [
    "polygon_client = PolygonAPIClient(ticker=\"GOOG\", multiplier=1, timespan=\"hour\")\n",
    "stock_data = polygon_client.get_stock_data()\n",
    "stock_data = polygon_client.generate_url(pass_auth=True)\n",
    "stock_data"
   ]
  },
  {
   "cell_type": "code",
   "execution_count": null,
   "id": "90617bf5-6010-4fd2-bfba-927dd271609e",
   "metadata": {},
   "outputs": [],
   "source": []
  }
 ],
 "metadata": {
  "kernelspec": {
   "display_name": "Python 3 (ipykernel)",
   "language": "python",
   "name": "python3"
  },
  "language_info": {
   "codemirror_mode": {
    "name": "ipython",
    "version": 3
   },
   "file_extension": ".py",
   "mimetype": "text/x-python",
   "name": "python",
   "nbconvert_exporter": "python",
   "pygments_lexer": "ipython3",
   "version": "3.12.8"
  }
 },
 "nbformat": 4,
 "nbformat_minor": 5
}
