{
 "cells": [
  {
   "cell_type": "code",
   "execution_count": 1,
   "id": "691756fe-a411-446b-a077-40ea788f2efc",
   "metadata": {},
   "outputs": [],
   "source": [
    "import decouple"
   ]
  },
  {
   "cell_type": "code",
   "execution_count": 2,
   "id": "aaa0b0fb-3e77-45de-b990-f35cc0c7463b",
   "metadata": {},
   "outputs": [],
   "source": [
    "config = decouple.AutoConfig(' ')"
   ]
  },
  {
   "cell_type": "code",
   "execution_count": 3,
   "id": "66ab4c87-7d40-4a02-8c3c-088ad463ce23",
   "metadata": {},
   "outputs": [],
   "source": [
    "assert config(\"ALPHA_VANTAGE_API_KEY\", default=None, cast=str) is not None"
   ]
  },
  {
   "cell_type": "code",
   "execution_count": 4,
   "id": "6b7fb5a1-55ca-4cec-9b48-a7c3c70ec949",
   "metadata": {},
   "outputs": [],
   "source": [
    "assert config(\"POLYGON_API_KEY\", default=None, cast=str) is not None"
   ]
  }
 ],
 "metadata": {
  "kernelspec": {
   "display_name": "Python 3 (ipykernel)",
   "language": "python",
   "name": "python3"
  },
  "language_info": {
   "codemirror_mode": {
    "name": "ipython",
    "version": 3
   },
   "file_extension": ".py",
   "mimetype": "text/x-python",
   "name": "python",
   "nbconvert_exporter": "python",
   "pygments_lexer": "ipython3",
   "version": "3.12.8"
  }
 },
 "nbformat": 4,
 "nbformat_minor": 5
}
