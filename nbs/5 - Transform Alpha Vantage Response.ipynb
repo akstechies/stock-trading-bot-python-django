{
 "cells": [
  {
   "cell_type": "code",
   "execution_count": 1,
   "id": "691756fe-a411-446b-a077-40ea788f2efc",
   "metadata": {},
   "outputs": [],
   "source": [
    "import decouple"
   ]
  },
  {
   "cell_type": "code",
   "execution_count": 2,
   "id": "aaa0b0fb-3e77-45de-b990-f35cc0c7463b",
   "metadata": {},
   "outputs": [],
   "source": [
    "config = decouple.AutoConfig(' ')"
   ]
  },
  {
   "cell_type": "code",
   "execution_count": 3,
   "id": "66ab4c87-7d40-4a02-8c3c-088ad463ce23",
   "metadata": {},
   "outputs": [],
   "source": [
    "assert config(\"ALPHA_VANTAGE_API_KEY\", default=None, cast=str) is not None"
   ]
  },
  {
   "cell_type": "code",
   "execution_count": 4,
   "id": "6b7fb5a1-55ca-4cec-9b48-a7c3c70ec949",
   "metadata": {},
   "outputs": [],
   "source": [
    "ALPHA_VANTAGE_API_KEY = config(\"ALPHA_VANTAGE_API_KEY\", default=None, cast=str)"
   ]
  },
  {
   "cell_type": "code",
   "execution_count": 5,
   "id": "810d6aa2-d35f-4a84-9e6e-66df621cb934",
   "metadata": {},
   "outputs": [
    {
     "data": {
      "text/plain": [
       "'4DA3RF1H7L46HH9X'"
      ]
     },
     "execution_count": 5,
     "metadata": {},
     "output_type": "execute_result"
    }
   ],
   "source": [
    "ALPHA_VANTAGE_API_KEY"
   ]
  },
  {
   "cell_type": "code",
   "execution_count": 6,
   "id": "68597c52-f920-4aae-a6f9-679c6823d79c",
   "metadata": {},
   "outputs": [],
   "source": [
    "import requests"
   ]
  },
  {
   "cell_type": "code",
   "execution_count": 7,
   "id": "0da4e6ef-e4ee-4f7f-8f60-c19b9d9081a0",
   "metadata": {},
   "outputs": [],
   "source": [
    "# replace the \"demo\" apikey below with your own key from https://www.alphavantage.co/support/#api-key\n",
    "params = {\n",
    "    \"api_key\": ALPHA_VANTAGE_API_KEY,\n",
    "    \"function\": \"TIME_SERIES_INTRADAY\",\n",
    "    \"ticker\": \"AAPL\",\n",
    "    \"interval\": \"5min\"\n",
    "}"
   ]
  },
  {
   "cell_type": "code",
   "execution_count": 8,
   "id": "d39ea14f-2e56-4ec1-b46b-d55743e858c7",
   "metadata": {},
   "outputs": [],
   "source": [
    "url = \"https://www.alphavantage.co/query?function={function}&symbol={ticker}&interval={interval}&apikey={api_key}\".format(\n",
    "    **params\n",
    ")"
   ]
  },
  {
   "cell_type": "code",
   "execution_count": 9,
   "id": "9933a861-1991-44e0-9d28-56f9dc44dda7",
   "metadata": {},
   "outputs": [],
   "source": [
    "r = requests.get(url)"
   ]
  },
  {
   "cell_type": "code",
   "execution_count": 10,
   "id": "aa7feb32-3cd5-46d9-af28-0833f0bc0ab6",
   "metadata": {},
   "outputs": [],
   "source": [
    "data = r.json()"
   ]
  },
  {
   "cell_type": "code",
   "execution_count": 11,
   "id": "d9916180-04bc-40bc-8fb1-a6f64723208c",
   "metadata": {},
   "outputs": [],
   "source": [
    "# data"
   ]
  },
  {
   "cell_type": "code",
   "execution_count": 12,
   "id": "8652e5fe-c795-4762-85e2-93bdeb06afad",
   "metadata": {},
   "outputs": [
    {
     "data": {
      "text/plain": [
       "dict_keys(['Meta Data', 'Time Series (5min)'])"
      ]
     },
     "execution_count": 12,
     "metadata": {},
     "output_type": "execute_result"
    }
   ],
   "source": [
    "data.keys()"
   ]
  },
  {
   "cell_type": "code",
   "execution_count": 13,
   "id": "1ccabe02-0446-4bf9-8430-9efeb9749255",
   "metadata": {},
   "outputs": [],
   "source": [
    "dataset_key = [x for x in list(data.keys()) if not x.lower() == \"meta data\"][0]"
   ]
  },
  {
   "cell_type": "code",
   "execution_count": 14,
   "id": "69173c99-d29f-4325-a14a-1d6d9210c001",
   "metadata": {},
   "outputs": [
    {
     "data": {
      "text/plain": [
       "'Time Series (5min)'"
      ]
     },
     "execution_count": 14,
     "metadata": {},
     "output_type": "execute_result"
    }
   ],
   "source": [
    "dataset_key"
   ]
  },
  {
   "cell_type": "code",
   "execution_count": 15,
   "id": "0bbbe0f0-3be4-43c9-9b55-35e1f6924b5c",
   "metadata": {},
   "outputs": [],
   "source": [
    "results = data[dataset_key]"
   ]
  },
  {
   "cell_type": "code",
   "execution_count": 16,
   "id": "628e479f-31e2-4bbb-8845-23962ff89e17",
   "metadata": {},
   "outputs": [],
   "source": [
    "# results[0]"
   ]
  },
  {
   "cell_type": "code",
   "execution_count": 17,
   "id": "5ddbc15d-eae7-434c-9734-56b6fe9ff2a4",
   "metadata": {},
   "outputs": [
    {
     "data": {
      "text/plain": [
       "'2025-01-15 19:55:00'"
      ]
     },
     "execution_count": 17,
     "metadata": {},
     "output_type": "execute_result"
    }
   ],
   "source": [
    "timestamp_str = list(results.keys())[0]\n",
    "timestamp_str"
   ]
  },
  {
   "cell_type": "code",
   "execution_count": null,
   "id": "99365d16-fc0a-420b-aff8-9a6f7d02c7aa",
   "metadata": {},
   "outputs": [],
   "source": [
    "                "
   ]
  },
  {
   "cell_type": "code",
   "execution_count": 18,
   "id": "b6d06e88-82ef-4102-97ef-b4e4aa51abc4",
   "metadata": {},
   "outputs": [
    {
     "data": {
      "text/plain": [
       "{'1. open': '238.6000',\n",
       " '2. high': '238.6000',\n",
       " '3. low': '238.4500',\n",
       " '4. close': '238.5000',\n",
       " '5. volume': '2099'}"
      ]
     },
     "execution_count": 18,
     "metadata": {},
     "output_type": "execute_result"
    }
   ],
   "source": [
    "result_val = results.get(timestamp_str)\n",
    "result_val"
   ]
  },
  {
   "cell_type": "code",
   "execution_count": 19,
   "id": "ad63a85b-9b7f-43f9-96f8-bc76be9be923",
   "metadata": {},
   "outputs": [],
   "source": [
    "from datetime import datetime\n",
    "import pytz\n",
    "from decimal import Decimal\n",
    "\n",
    "def transform_alphavantage_result(timestamp_str, result):\n",
    "    timestamp_format = \"%Y-%m-%d %H:%M:%S\"\n",
    "    eastern = pytz.timezone(\"US/Eastern\")\n",
    "    utc = pytz.utc\n",
    "    \n",
    "    timestamp = eastern.localize(datetime.strptime(timestamp_str, timestamp_format)).astimezone(utc)\n",
    "    timestamp\n",
    "    return {\n",
    "        \"volume\": int(result[\"5. volume\"]),\n",
    "        \"open\": Decimal(result[\"1. open\"]),\n",
    "        \"close\": Decimal(result[\"4. close\"]),\n",
    "        \"high\": Decimal(result[\"2. high\"]),\n",
    "        \"low\": Decimal(result[\"3. low\"]),\n",
    "        \"timestamp\": timestamp,  \n",
    "    }"
   ]
  },
  {
   "cell_type": "code",
   "execution_count": 20,
   "id": "3a47ee56-7b44-41dd-bae0-284b2f58d564",
   "metadata": {},
   "outputs": [
    {
     "data": {
      "text/plain": [
       "{'volume': 2099,\n",
       " 'open': Decimal('238.6000'),\n",
       " 'close': Decimal('238.5000'),\n",
       " 'high': Decimal('238.6000'),\n",
       " 'low': Decimal('238.4500'),\n",
       " 'timestamp': datetime.datetime(2025, 1, 16, 0, 55, tzinfo=<UTC>)}"
      ]
     },
     "execution_count": 20,
     "metadata": {},
     "output_type": "execute_result"
    }
   ],
   "source": [
    "transform_alphavantage_result(timestamp_str, result_val)"
   ]
  },
  {
   "cell_type": "code",
   "execution_count": 22,
   "id": "ef2089e9-2afd-4010-a4b4-61d8fe85f16b",
   "metadata": {},
   "outputs": [],
   "source": [
    "for timestamp in results.keys():\n",
    "    new_data = transform_alphavantage_result(timestamp, results.get(timestamp))\n",
    "    # print(new_data)"
   ]
  },
  {
   "cell_type": "code",
   "execution_count": null,
   "id": "d14475e8-5580-45cc-8dd0-494bfdab7a30",
   "metadata": {},
   "outputs": [],
   "source": []
  }
 ],
 "metadata": {
  "kernelspec": {
   "display_name": "Python 3 (ipykernel)",
   "language": "python",
   "name": "python3"
  },
  "language_info": {
   "codemirror_mode": {
    "name": "ipython",
    "version": 3
   },
   "file_extension": ".py",
   "mimetype": "text/x-python",
   "name": "python",
   "nbconvert_exporter": "python",
   "pygments_lexer": "ipython3",
   "version": "3.12.8"
  }
 },
 "nbformat": 4,
 "nbformat_minor": 5
}
